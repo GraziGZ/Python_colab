{
  "nbformat": 4,
  "nbformat_minor": 0,
  "metadata": {
    "colab": {
      "provenance": [],
      "include_colab_link": true
    },
    "kernelspec": {
      "name": "python3",
      "display_name": "Python 3"
    },
    "language_info": {
      "name": "python"
    }
  },
  "cells": [
    {
      "cell_type": "markdown",
      "metadata": {
        "id": "view-in-github",
        "colab_type": "text"
      },
      "source": [
        "<a href=\"https://colab.research.google.com/github/GraziGZ/Python_colab/blob/main/Financias.ipynb\" target=\"_parent\"><img src=\"https://colab.research.google.com/assets/colab-badge.svg\" alt=\"Open In Colab\"/></a>"
      ]
    },
    {
      "cell_type": "markdown",
      "source": [
        "Finanças pessoais"
      ],
      "metadata": {
        "id": "KmObxMzvom0g"
      }
    },
    {
      "cell_type": "code",
      "source": [
        "Nome = input(\"Digite seu nome:\")\n",
        "print(\"Bem-vindo\",Nome)\n",
        "print(\"Bora calcular as suas finanças\")\n",
        "print(\"///////////////////////////////////\")\n",
        "\n",
        "salario = float(input(\"Qual é o seu salário?\"))\n",
        "\n",
        "par = int(input(\"Você tem contas parceladas? sim = 1 / não = 2 \"))\n",
        "if par == 2:\n",
        "  print(\"Você não tem parcela \")\n",
        "  tpar = 0\n",
        "elif par == 1:\n",
        "    parc = input(\"Coloque os valores das suas parcelas, separados por vírgula (xxx,xxx,xxx): \")\n",
        "    parx = [float(valor.strip()) for valor in parc.split(',')]\n",
        "    print(\"Suas parcelas são:\", parx)\n",
        "    tpar = sum(parx)\n",
        "    print(f'O valor total das suas parcelas é: {tpar:.2f}')\n",
        "print(\"-----------------------------------\")\n",
        "print(\"Agora vamos para outra pergunta\")\n",
        "\n",
        "gastofixo = int(input(\"você tem gastos fixos? (telefone, plano de saúde) sim = 1 / não = 2 \"))\n",
        "\n",
        "if gastofixo == 2:\n",
        "  print(\"Você não tem gastos fixos \")\n",
        "  tgtf = 0\n",
        "elif gastofixo == 1:\n",
        "    gtf = input(\"Coloque os valores do seus gastos fixos, separados por vírgula (xxx,xxx,xxx): \")\n",
        "    gtfx = [float(valor.strip()) for valor in gtf.split(',')]\n",
        "    print(\"Seus gastos fixos são:\", gtfx)\n",
        "    tgtf = sum(gtfx)\n",
        "    print(f'O valor total dos gastos fixos é: {tgtf:.2f}')\n",
        "print(\"-------------------------------\")\n",
        "print(\"Vamos para última pergunta\")\n",
        "\n",
        "gasto = int(input(\"Você teve gastos esse mês? sim = 1 / não = 2 \"))\n",
        "\n",
        "if gasto == 2:\n",
        "  print(\"Você não teve gastos \")\n",
        "  tgast = 0\n",
        "elif gasto == 1:\n",
        "    gast = input(\"Coloque os valores dos seus gastos do mês, separados por vírgula (xxx,xxx,xxx): \")\n",
        "    gastx = [float(valor.strip()) for valor in gast.split(',')]\n",
        "    print(\"Seus gastos são:\", gastx)\n",
        "    tgast = sum(gastx)\n",
        "    print(f'O valor total dos seus gastos no mês é: {tgast:.2f}')\n",
        "\n",
        "print(\"///////////////////////////////////\")\n",
        "print(\"Agora vamos ver o valor total de gastos, e quanto que vc economizou ou não :)\")\n",
        "vt = (tpar + tgtf + tgast)\n",
        "print(\"O valor total de gasto foi : \",vt)\n",
        "desc = (salario - vt)\n",
        "if desc > 0:\n",
        "    print(\"Parabéns!\", Nome, \"você economizou\", desc)\n",
        "else:\n",
        "    print(\"Vishh!\", Nome, \"você não economizou, agora está devendo\", -desc)\n",
        "    print(\"by: Grazzi\")"
      ],
      "metadata": {
        "id": "m-jm-_zFqHc6"
      },
      "execution_count": null,
      "outputs": []
    }
  ]
}